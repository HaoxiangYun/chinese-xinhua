{
 "cells": [
  {
   "cell_type": "code",
   "execution_count": 1,
   "id": "784483cd-b123-49d1-b0af-a347d3664655",
   "metadata": {},
   "outputs": [],
   "source": [
    "import pandas as pd\n",
    "import numpy as np"
   ]
  },
  {
   "cell_type": "code",
   "execution_count": 2,
   "id": "b8e01c4a-c91c-4585-a9c8-5520f000832d",
   "metadata": {},
   "outputs": [],
   "source": [
    "sala_df = pd.read_excel(r'D:\\mycodes\\xinhua\\chinese-xinhua\\data\\text_salacity.xlsx')"
   ]
  },
  {
   "cell_type": "code",
   "execution_count": 6,
   "id": "7b799c86-8b82-45b2-96b6-37b77fdd6d57",
   "metadata": {},
   "outputs": [
    {
     "data": {
      "text/plain": [
       "Index(['title', 'source', 'content', 'label', 'evidence', 'model_name', 'url',\n",
       "       'user_url', 'user_name', 'ctime', 'id', 'content_top40', 'update_time',\n",
       "       'create_time'],\n",
       "      dtype='object')"
      ]
     },
     "execution_count": 6,
     "metadata": {},
     "output_type": "execute_result"
    }
   ],
   "source": [
    "sala_df.columns"
   ]
  },
  {
   "cell_type": "code",
   "execution_count": 21,
   "id": "56b684de-89d1-4710-a7c3-f87030b79233",
   "metadata": {},
   "outputs": [
    {
     "data": {
      "text/plain": [
       "array(['摇着+腰肢', '乳头+勃起', '下面给你吃', '91视频', '品色堂', 'luoliao', '小姐姐免费上门服务',\n",
       "       '美女全套', '小xue', '插+下体', 'luo聊', '插进+小穴', '胸前+红豆', '乖+把腿张开', '选小妹',\n",
       "       '手指+抽插', '大发代理邀请码', '妹妹能约个服务', '美女伴游', '美女上门', '屁股+啪啪', '小姐按摩',\n",
       "       '龙舟挂鼓', '找美女服务', '大rb', '宛芷', '男朋友+太粗', '钻进+嘴里', '婷婷基地', '美女一条龙',\n",
       "       '欧美色图', '兼职按摩', '柔+乳头', '哪里的人都叫美女', '肉体+交欢', '情色网', '花瓣洞', '舔+阴蒂',\n",
       "       '小姐上门', '找特殊服务', '舌尖缠绕', '视频裸聊', '女人+啪啪', '会所美女', '龟头+口中', '穴里+很滑',\n",
       "       '鸡巴+肏', '荫唇', '异性spa', '淫水+打湿', '粉嫩+咪咪', '夹着+肉棒', '鸡巴+插',\n",
       "       '小姐姐在打飞机', '大腿根部+亲', '喜欢+阴茎', '好多水+痒', '巨物+小口;深入+巨物',\n",
       "       '深入+巨物;巨物+小口', '伸进去+大腿', '蜜穴', '男人+抽插', '附近找小姐', '鲍鱼洞', '抽插+呻吟',\n",
       "       '屁股+做爱', '阴茎+抽送', '好多水+骚逼', '肏+好爽', '女大学生妹', '小姐全套',\n",
       "       '干着+嫩穴;肉棒+小穴;干+嫩穴', 'sp+什么价', '精液+穴里;小穴+肉棒;肉棒+小穴;肉棒+摩擦',\n",
       "       '肉棒+小穴;肉棒+穴口', '湿+阴唇', '小姐资源', '美女+耐操', '舌头+乳头', '同城约爱', '上门推油',\n",
       "       '屁股缝+舔', '敏感点+不住', '好深+好爽', '鸡巴+插;抽插+女友;鸡巴+抽插', '肉棒+抽插', '含住+鸡巴',\n",
       "       '学生女服务', '肉棒+小穴', '阴道+鸡巴', '磁力+老司机', '鸡巴+射精', '肉体拍打', '女友+肉棒',\n",
       "       '小穴+舔', '肛门+精液', '手指cha', '阴道+射精', '手伸进+内裤', '阴道+淫水',\n",
       "       '阴道+射精;阴道+淫水', '手指+阴唇', '手指+小穴', '摩擦+阴蒂', '阴茎+撸', '找点特殊服务',\n",
       "       '阳具+插入', '小姐打飞机'], dtype=object)"
      ]
     },
     "execution_count": 21,
     "metadata": {},
     "output_type": "execute_result"
    }
   ],
   "source": [
    "evi_uni = sala_df['evidence'].unique()\n",
    "evi_uni"
   ]
  },
  {
   "cell_type": "code",
   "execution_count": 33,
   "id": "8bef567e-1646-4ce7-b3fb-1aeba1bf36de",
   "metadata": {},
   "outputs": [
    {
     "data": {
      "text/html": [
       "<div>\n",
       "<style scoped>\n",
       "    .dataframe tbody tr th:only-of-type {\n",
       "        vertical-align: middle;\n",
       "    }\n",
       "\n",
       "    .dataframe tbody tr th {\n",
       "        vertical-align: top;\n",
       "    }\n",
       "\n",
       "    .dataframe thead th {\n",
       "        text-align: right;\n",
       "    }\n",
       "</style>\n",
       "<table border=\"1\" class=\"dataframe\">\n",
       "  <thead>\n",
       "    <tr style=\"text-align: right;\">\n",
       "      <th></th>\n",
       "      <th>title</th>\n",
       "      <th>source</th>\n",
       "      <th>content</th>\n",
       "      <th>label</th>\n",
       "      <th>evidence</th>\n",
       "      <th>model_name</th>\n",
       "      <th>url</th>\n",
       "      <th>user_url</th>\n",
       "      <th>user_name</th>\n",
       "      <th>ctime</th>\n",
       "      <th>id</th>\n",
       "      <th>content_top40</th>\n",
       "      <th>update_time</th>\n",
       "      <th>create_time</th>\n",
       "    </tr>\n",
       "  </thead>\n",
       "  <tbody>\n",
       "    <tr>\n",
       "      <th>0</th>\n",
       "      <td>玄紫夜扭捏起来，故意摇晃身子，撒娇拿劲，逗的葳葳笑弯了小腰枝，才罢了。随后，俩人共同迈着大明...</td>\n",
       "      <td>天涯论坛</td>\n",
       "      <td>玄紫夜扭捏起来，故意摇晃身子，撒娇拿劲，逗的葳葳笑弯了小腰枝，才罢了。随后，俩人共同迈着大明...</td>\n",
       "      <td>色情其他</td>\n",
       "      <td>摇着+腰肢</td>\n",
       "      <td>salacity_rule_base</td>\n",
       "      <td>http://bbs.tianya.cn/post-free-6189646-3.shtml...</td>\n",
       "      <td>NaN</td>\n",
       "      <td>紫夜梦缘</td>\n",
       "      <td>20210729162944</td>\n",
       "      <td>0</td>\n",
       "      <td>玄紫夜扭捏起来，故意摇晃身子，撒娇拿劲，逗的葳葳笑弯了小腰枝，才罢了。随后，俩人</td>\n",
       "      <td>2021-08-01 09:29:08</td>\n",
       "      <td>2021-08-01 09:29:08</td>\n",
       "    </tr>\n",
       "  </tbody>\n",
       "</table>\n",
       "</div>"
      ],
      "text/plain": [
       "                                               title source  \\\n",
       "0  玄紫夜扭捏起来，故意摇晃身子，撒娇拿劲，逗的葳葳笑弯了小腰枝，才罢了。随后，俩人共同迈着大明...   天涯论坛   \n",
       "\n",
       "                                             content label evidence  \\\n",
       "0  玄紫夜扭捏起来，故意摇晃身子，撒娇拿劲，逗的葳葳笑弯了小腰枝，才罢了。随后，俩人共同迈着大明...  色情其他    摇着+腰肢   \n",
       "\n",
       "           model_name                                                url  \\\n",
       "0  salacity_rule_base  http://bbs.tianya.cn/post-free-6189646-3.shtml...   \n",
       "\n",
       "   user_url user_name           ctime  id  \\\n",
       "0       NaN      紫夜梦缘  20210729162944   0   \n",
       "\n",
       "                              content_top40         update_time  \\\n",
       "0  玄紫夜扭捏起来，故意摇晃身子，撒娇拿劲，逗的葳葳笑弯了小腰枝，才罢了。随后，俩人 2021-08-01 09:29:08   \n",
       "\n",
       "          create_time  \n",
       "0 2021-08-01 09:29:08  "
      ]
     },
     "execution_count": 33,
     "metadata": {},
     "output_type": "execute_result"
    }
   ],
   "source": [
    "h = sala_df[0:0]\n",
    "t = sala_df['evidence'] == evi_uni[0]\n",
    "h = pd.concat([h,sala_df[t]])\n",
    "h"
   ]
  },
  {
   "cell_type": "code",
   "execution_count": 36,
   "id": "b8cee485-5ff7-48f6-8522-6770519a6f81",
   "metadata": {},
   "outputs": [],
   "source": [
    "def combineframe(sala_df):\n",
    "    evi_uni = sala_df['evidence'].unique()\n",
    "    sala_df2 = sala_df[0:0]\n",
    "    for i in range(len(evi_uni)):\n",
    "        t = sala_df['evidence'] == evi_uni[i]\n",
    "        temp = sala_df[t]\n",
    "        sala_df2 = pd.concat([sala_df2, temp])\n",
    "    return sala_df2\n",
    "        "
   ]
  },
  {
   "cell_type": "code",
   "execution_count": 40,
   "id": "820e1183-cb14-422d-bc8b-885f00ff2d71",
   "metadata": {},
   "outputs": [],
   "source": [
    "sala_df2 = combineframe(sala_df)"
   ]
  },
  {
   "cell_type": "code",
   "execution_count": 41,
   "id": "2813460a-ab6b-4f0f-bc65-5011db3e2b59",
   "metadata": {},
   "outputs": [],
   "source": [
    "#sala_df2.to_excel(r\"C:\\Users\\茶经道人\\Desktop\\salacity2.xlsx\", index = False)"
   ]
  }
 ],
 "metadata": {
  "kernelspec": {
   "display_name": "Python 3 (ipykernel)",
   "language": "python",
   "name": "python3"
  },
  "language_info": {
   "codemirror_mode": {
    "name": "ipython",
    "version": 3
   },
   "file_extension": ".py",
   "mimetype": "text/x-python",
   "name": "python",
   "nbconvert_exporter": "python",
   "pygments_lexer": "ipython3",
   "version": "3.9.6"
  }
 },
 "nbformat": 4,
 "nbformat_minor": 5
}
