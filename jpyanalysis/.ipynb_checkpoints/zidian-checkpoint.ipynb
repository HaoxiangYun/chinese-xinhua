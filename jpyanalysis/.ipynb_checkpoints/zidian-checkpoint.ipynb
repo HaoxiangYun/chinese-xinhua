{
 "cells": [
  {
   "cell_type": "code",
   "execution_count": 1,
   "id": "8a409d9a-9240-4150-a3a0-3d96a8861f37",
   "metadata": {},
   "outputs": [],
   "source": [
    "import pandas as pd\n",
    "import numpy as np"
   ]
  },
  {
   "cell_type": "markdown",
   "id": "361dc890-ecea-4865-9092-9034f38ed358",
   "metadata": {},
   "source": [
    "这一部分是词语的组成"
   ]
  },
  {
   "cell_type": "code",
   "execution_count": 4,
   "id": "cb7f1622-6742-40cf-be55-85865d65cfe8",
   "metadata": {},
   "outputs": [
    {
     "data": {
      "text/html": [
       "<div>\n",
       "<style scoped>\n",
       "    .dataframe tbody tr th:only-of-type {\n",
       "        vertical-align: middle;\n",
       "    }\n",
       "\n",
       "    .dataframe tbody tr th {\n",
       "        vertical-align: top;\n",
       "    }\n",
       "\n",
       "    .dataframe thead th {\n",
       "        text-align: right;\n",
       "    }\n",
       "</style>\n",
       "<table border=\"1\" class=\"dataframe\">\n",
       "  <thead>\n",
       "    <tr style=\"text-align: right;\">\n",
       "      <th></th>\n",
       "      <th>ci</th>\n",
       "      <th>explanation</th>\n",
       "    </tr>\n",
       "  </thead>\n",
       "  <tbody>\n",
       "    <tr>\n",
       "      <th>0</th>\n",
       "      <td>宸纶</td>\n",
       "      <td>1.帝王的诏书﹑制令。</td>\n",
       "    </tr>\n",
       "    <tr>\n",
       "      <th>1</th>\n",
       "      <td>宸明</td>\n",
       "      <td>1.圣明。借指皇帝。</td>\n",
       "    </tr>\n",
       "    <tr>\n",
       "      <th>2</th>\n",
       "      <td>宸命</td>\n",
       "      <td>1.圣旨;皇帝的委命。</td>\n",
       "    </tr>\n",
       "    <tr>\n",
       "      <th>3</th>\n",
       "      <td>宸谟</td>\n",
       "      <td>1.帝王的谋略。</td>\n",
       "    </tr>\n",
       "    <tr>\n",
       "      <th>4</th>\n",
       "      <td>宸谋</td>\n",
       "      <td>1.帝王的谋划。</td>\n",
       "    </tr>\n",
       "  </tbody>\n",
       "</table>\n",
       "</div>"
      ],
      "text/plain": [
       "   ci  explanation\n",
       "0  宸纶  1.帝王的诏书﹑制令。\n",
       "1  宸明   1.圣明。借指皇帝。\n",
       "2  宸命  1.圣旨;皇帝的委命。\n",
       "3  宸谟     1.帝王的谋略。\n",
       "4  宸谋     1.帝王的谋划。"
      ]
     },
     "execution_count": 4,
     "metadata": {},
     "output_type": "execute_result"
    }
   ],
   "source": [
    "ci_df = pd.read_json(r'D:\\mycodes\\xinhua\\chinese-xinhua\\data\\ci.json')\n",
    "ci_df.head()[]"
   ]
  },
  {
   "cell_type": "code",
   "execution_count": 60,
   "id": "99e509f0-e913-4103-b050-fccd1af2b6d6",
   "metadata": {},
   "outputs": [],
   "source": [
    "exp = ci_df['explanation']\n",
    "ci = ci_df['ci']\n",
    "\n",
    "def search_ci(zi1, zi2, exp, ci):\n",
    "    se_result = []\n",
    "    for i in range(len(exp)):\n",
    "        if (zi1 in exp[i]) and (zi2 in exp[i]):\n",
    "            tem_exp = exp[i]\n",
    "            tem_ci = ci[i]\n",
    "            print (tem_exp, tem_ci)\n",
    "            data = {\n",
    "                'ci': tem_ci,\n",
    "                'explanation': tem_exp,\n",
    "                '分割线':'------------------------------'\n",
    "            }\n",
    "            se_result.append(data)\n",
    "    print(se_result)\n"
   ]
  },
  {
   "cell_type": "code",
   "execution_count": 64,
   "id": "faa72766-199e-459b-a4e3-af38957c3d82",
   "metadata": {},
   "outputs": [
    {
     "data": {
      "text/plain": [
       "6"
      ]
     },
     "execution_count": 64,
     "metadata": {},
     "output_type": "execute_result"
    }
   ],
   "source": [
    "examp = \"非暴力不合作\"\n",
    "len(examp)"
   ]
  },
  {
   "cell_type": "code",
   "execution_count": 87,
   "id": "a16c521a-d90a-4466-921c-871511f27340",
   "metadata": {},
   "outputs": [],
   "source": [
    "def search_ci_adv(zi, exp, ci):\n",
    "    se_result = []\n",
    "    for i in range(len(exp)):\n",
    "        fit = np.zeros(len(zi))\n",
    "        for j in range(len(zi)):\n",
    "            if zi[j] not in exp[i]:\n",
    "                fit[j] = 1\n",
    "        if sum(fit)>0:\n",
    "            continue\n",
    "        tem_exp = exp[i]\n",
    "        tem_ci = ci[i]\n",
    "        data = {\n",
    "            'ci': tem_ci,\n",
    "            'explanation': tem_exp,\n",
    "            '分割线':'------------------------------'\n",
    "        }\n",
    "        se_result.append(data)\n",
    "    return(se_result)"
   ]
  },
  {
   "cell_type": "code",
   "execution_count": 78,
   "id": "d3becc70-cd5e-4c86-8102-29e84b253650",
   "metadata": {},
   "outputs": [],
   "source": [
    "exp_f5 = ci_df['explanation'][0:5]\n",
    "ci_f5 = ci_df['ci'][0:5]"
   ]
  },
  {
   "cell_type": "code",
   "execution_count": 97,
   "id": "a097b40a-3136-42df-932c-ac28fbf826a6",
   "metadata": {},
   "outputs": [
    {
     "data": {
      "text/plain": [
       "[{'ci': '放囊',\n",
       "  'explanation': '1.指在赌场上放债。',\n",
       "  '分割线': '------------------------------'},\n",
       " {'ci': '老赌脚',\n",
       "  'explanation': '1.赌场中的老手。',\n",
       "  '分割线': '------------------------------'},\n",
       " {'ci': '大寳局',\n",
       "  'explanation': '1.旧称押宝的赌场。',\n",
       "  '分割线': '------------------------------'},\n",
       " {'ci': '封闭',\n",
       "  'explanation': '①严密盖住或关住使不能通行或随便打开 大雪～了道路ㄧ用火漆～瓶口。②查封～赌场。',\n",
       "  '分割线': '------------------------------'},\n",
       " {'ci': '柜坊',\n",
       "  'explanation': '1.唐宋都市中代客保管金银财物的商铺。宋时许多柜坊已成为游手无赖之徒销熔铜钱﹑进行赌博非法行为的场所。',\n",
       "  '分割线': '------------------------------'},\n",
       " {'ci': '马票',\n",
       "  'explanation': '1.跑马场为赌马者发行的彩票。',\n",
       "  '分割线': '------------------------------'},\n",
       " {'ci': '蒙特卡洛',\n",
       "  'explanation': '世界著名旅游地。在摩纳哥北部。人口13万(1982年)。气候温和，景色优美。有大赌场、豪华俱乐部和公园等。各种活动大都带有赌博色彩。',\n",
       "  '分割线': '------------------------------'},\n",
       " {'ci': '相帮',\n",
       "  'explanation': '1.亦作\"相幇\"。 \\n2.方言。帮助。 \\n3.挨靠在一起。 \\n4.旧指妓院或赌场的男仆。',\n",
       "  '分割线': '------------------------------'},\n",
       " {'ci': '摊场',\n",
       "  'explanation': '1.有步骤的﹑慢慢的。 \\n2.赌场。',\n",
       "  '分割线': '------------------------------'},\n",
       " {'ci': '摊馆',\n",
       "  'explanation': '1.摇摊的赌场。',\n",
       "  '分割线': '------------------------------'},\n",
       " {'ci': '头钱',\n",
       "  'explanation': '1.汉代人口税的一种『制从七岁至十四岁的儿童，每人每年交二十三钱。 \\n2.犹一钱，极少之钱。 \\n3.一种博具。共用钱六枚。博者掷下去﹐看\"字\"(正面)和\"镘\"(背面)的多少﹐决定胜负。 \\n4.赌博场所主人或供役使的人从赢者所得的钱中所提取的一小部分。 \\n5.指地痞流氓向个体劳动者敲诈所得的钱。 6.本钱。',\n",
       "  '分割线': '------------------------------'},\n",
       " {'ci': '银牌馆',\n",
       "  'explanation': '1.旧时规定以银币为赌注的赌场。',\n",
       "  '分割线': '------------------------------'},\n",
       " {'ci': '朱窝',\n",
       "  'explanation': '1.赌具。骰子的名称。因其凹点内常涂以红色，故称。 \\n2.借指赌场。',\n",
       "  '分割线': '------------------------------'}]"
      ]
     },
     "execution_count": 97,
     "metadata": {},
     "output_type": "execute_result"
    }
   ],
   "source": [
    "search_ci_adv(\"赌场\", exp, ci)"
   ]
  },
  {
   "cell_type": "markdown",
   "id": "9fa2b832-c7c7-437f-8728-2a71d50db2bd",
   "metadata": {},
   "source": [
    "这一部分是成语的组成"
   ]
  },
  {
   "cell_type": "code",
   "execution_count": 92,
   "id": "3e0f2c07-9d3c-4099-aca9-f78dfa54510c",
   "metadata": {},
   "outputs": [
    {
     "data": {
      "text/html": [
       "<div>\n",
       "<style scoped>\n",
       "    .dataframe tbody tr th:only-of-type {\n",
       "        vertical-align: middle;\n",
       "    }\n",
       "\n",
       "    .dataframe tbody tr th {\n",
       "        vertical-align: top;\n",
       "    }\n",
       "\n",
       "    .dataframe thead th {\n",
       "        text-align: right;\n",
       "    }\n",
       "</style>\n",
       "<table border=\"1\" class=\"dataframe\">\n",
       "  <thead>\n",
       "    <tr style=\"text-align: right;\">\n",
       "      <th></th>\n",
       "      <th>derivation</th>\n",
       "      <th>example</th>\n",
       "      <th>explanation</th>\n",
       "      <th>pinyin</th>\n",
       "      <th>word</th>\n",
       "      <th>abbreviation</th>\n",
       "    </tr>\n",
       "  </thead>\n",
       "  <tbody>\n",
       "    <tr>\n",
       "      <th>0</th>\n",
       "      <td>语出《法华经·法师功德品》下至阿鼻地狱。”</td>\n",
       "      <td>但也有少数意志薄弱的……逐步上当，终至堕入～。★《上饶集中营·炼狱杂记》</td>\n",
       "      <td>阿鼻梵语的译音，意译为无间”，即痛苦无有间断之意。常用来比喻黑暗的社会和严酷的牢狱。又比喻无...</td>\n",
       "      <td>ā bí dì yù</td>\n",
       "      <td>阿鼻地狱</td>\n",
       "      <td>abdy</td>\n",
       "    </tr>\n",
       "    <tr>\n",
       "      <th>1</th>\n",
       "      <td>三国·魏·曹操《整齐风俗令》阿党比周，先圣所疾也。”</td>\n",
       "      <td>《论语·卫灵公》众恶之，必察焉；众好之，必察焉”何晏集解引三国魏王肃曰或众～，或其人特立不群...</td>\n",
       "      <td>指相互勾结，相互偏袒，结党营私。</td>\n",
       "      <td>ē dǎng bǐ zhōu</td>\n",
       "      <td>阿党比周</td>\n",
       "      <td>edbz</td>\n",
       "    </tr>\n",
       "    <tr>\n",
       "      <th>2</th>\n",
       "      <td>《汉书·诸葛丰传》今以四海之大，曾无伏节死谊之臣，率尽苟合取容，阿党相为，念私门之利，忘国家...</td>\n",
       "      <td>无</td>\n",
       "      <td>阿党偏袒、偏私一方。为了谋求私利相互偏袒、包庇。</td>\n",
       "      <td>ē dǎng xiāng wéi</td>\n",
       "      <td>阿党相为</td>\n",
       "      <td>edxw</td>\n",
       "    </tr>\n",
       "    <tr>\n",
       "      <th>3</th>\n",
       "      <td>鲁迅《我们要批评家》然而新的批评家不开口，类似批评家之流便趁势一笔抹杀‘阿狗阿猫’。”</td>\n",
       "      <td>无</td>\n",
       "      <td>旧时人们常用的小名。引申为任何轻贱的，不值得重视的人或著作。</td>\n",
       "      <td>ā gǒu ā māo</td>\n",
       "      <td>阿狗阿猫</td>\n",
       "      <td>agam</td>\n",
       "    </tr>\n",
       "    <tr>\n",
       "      <th>4</th>\n",
       "      <td>见阿家阿翁”。</td>\n",
       "      <td>既然如此，你我两个，便学个不痴不聋的～。★《儿女英雄传》二三回</td>\n",
       "      <td>阿名词的前缀。姑丈夫的母亲。翁丈夫的父亲。指公公婆婆。</td>\n",
       "      <td>ā gū ā wēng</td>\n",
       "      <td>阿姑阿翁</td>\n",
       "      <td>agaw</td>\n",
       "    </tr>\n",
       "  </tbody>\n",
       "</table>\n",
       "</div>"
      ],
      "text/plain": [
       "                                          derivation  \\\n",
       "0                              语出《法华经·法师功德品》下至阿鼻地狱。”   \n",
       "1                         三国·魏·曹操《整齐风俗令》阿党比周，先圣所疾也。”   \n",
       "2  《汉书·诸葛丰传》今以四海之大，曾无伏节死谊之臣，率尽苟合取容，阿党相为，念私门之利，忘国家...   \n",
       "3        鲁迅《我们要批评家》然而新的批评家不开口，类似批评家之流便趁势一笔抹杀‘阿狗阿猫’。”   \n",
       "4                                            见阿家阿翁”。   \n",
       "\n",
       "                                             example  \\\n",
       "0               但也有少数意志薄弱的……逐步上当，终至堕入～。★《上饶集中营·炼狱杂记》   \n",
       "1  《论语·卫灵公》众恶之，必察焉；众好之，必察焉”何晏集解引三国魏王肃曰或众～，或其人特立不群...   \n",
       "2                                                  无   \n",
       "3                                                  无   \n",
       "4                    既然如此，你我两个，便学个不痴不聋的～。★《儿女英雄传》二三回   \n",
       "\n",
       "                                         explanation            pinyin  word  \\\n",
       "0  阿鼻梵语的译音，意译为无间”，即痛苦无有间断之意。常用来比喻黑暗的社会和严酷的牢狱。又比喻无...        ā bí dì yù  阿鼻地狱   \n",
       "1                                   指相互勾结，相互偏袒，结党营私。    ē dǎng bǐ zhōu  阿党比周   \n",
       "2                           阿党偏袒、偏私一方。为了谋求私利相互偏袒、包庇。  ē dǎng xiāng wéi  阿党相为   \n",
       "3                     旧时人们常用的小名。引申为任何轻贱的，不值得重视的人或著作。       ā gǒu ā māo  阿狗阿猫   \n",
       "4                        阿名词的前缀。姑丈夫的母亲。翁丈夫的父亲。指公公婆婆。       ā gū ā wēng  阿姑阿翁   \n",
       "\n",
       "  abbreviation  \n",
       "0         abdy  \n",
       "1         edbz  \n",
       "2         edxw  \n",
       "3         agam  \n",
       "4         agaw  "
      ]
     },
     "execution_count": 92,
     "metadata": {},
     "output_type": "execute_result"
    }
   ],
   "source": [
    "idiom_df = pd.read_json(r'D:\\mycodes\\xinhua\\chinese-xinhua\\data\\idiom.json')\n",
    "idiom_df.head()"
   ]
  }
 ],
 "metadata": {
  "kernelspec": {
   "display_name": "Python 3 (ipykernel)",
   "language": "python",
   "name": "python3"
  },
  "language_info": {
   "codemirror_mode": {
    "name": "ipython",
    "version": 3
   },
   "file_extension": ".py",
   "mimetype": "text/x-python",
   "name": "python",
   "nbconvert_exporter": "python",
   "pygments_lexer": "ipython3",
   "version": "3.9.6"
  }
 },
 "nbformat": 4,
 "nbformat_minor": 5
}
